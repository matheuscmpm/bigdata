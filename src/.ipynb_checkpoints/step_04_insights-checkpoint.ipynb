{
 "cells": [
  {
   "cell_type": "code",
   "execution_count": 1,
   "metadata": {},
   "outputs": [],
   "source": [
    "import os\n",
    "import requests\n",
    "import json\n",
    "import re\n",
    "import glob\n",
    "import numpy as np\n",
    "from pyspark import SparkContext, SparkConf\n",
    "from pyspark.sql import SparkSession\n",
    "from pyspark.sql.types import *\n",
    "import pandas as pd"
   ]
  },
  {
   "cell_type": "code",
   "execution_count": 2,
   "metadata": {},
   "outputs": [],
   "source": [
    "RAW = './raw/'\n",
    "MODELED = './modeled/'"
   ]
  },
  {
   "cell_type": "code",
   "execution_count": 3,
   "metadata": {},
   "outputs": [],
   "source": [
    "builder = SparkSession.builder.appName(\"Data scrub\")\n",
    "builder.config(\n",
    "    \"spark.hadoop.mapreduce.fileoutputcommitter.algorithm.version\", \"2\")\n",
    "builder.config(\"spark.speculation\", \"false\")\n",
    "builder.config(\"spark.sql.parquet.compression.codec\", \"gzip\")\n",
    "builder.config(\"spark.debug.maxToStringFields\", \"100\")\n",
    "builder.config(\"spark.driver.memory\", \"9g\")\n",
    "builder.config(\"spark.driver.cores\", \"4\")\n",
    "builder.config(\"spark.executor-memory\", \"20g\")\n",
    "builder.config(\"spark.executor.cores\", \"4\")\n",
    "builder.master(\"local[*]\")\n",
    "\n",
    "spark = builder.getOrCreate()"
   ]
  },
  {
   "cell_type": "code",
   "execution_count": 4,
   "metadata": {},
   "outputs": [
    {
     "data": {
      "text/html": [
       "\n",
       "            <div>\n",
       "                <p><b>SparkSession - in-memory</b></p>\n",
       "                \n",
       "        <div>\n",
       "            <p><b>SparkContext</b></p>\n",
       "\n",
       "            <p><a href=\"http://0f34c3f1dd57:4040\">Spark UI</a></p>\n",
       "\n",
       "            <dl>\n",
       "              <dt>Version</dt>\n",
       "                <dd><code>v2.4.3</code></dd>\n",
       "              <dt>Master</dt>\n",
       "                <dd><code>local[*]</code></dd>\n",
       "              <dt>AppName</dt>\n",
       "                <dd><code>Data scrub</code></dd>\n",
       "            </dl>\n",
       "        </div>\n",
       "        \n",
       "            </div>\n",
       "        "
      ],
      "text/plain": [
       "<pyspark.sql.session.SparkSession at 0x7f108e889400>"
      ]
     },
     "execution_count": 4,
     "metadata": {},
     "output_type": "execute_result"
    }
   ],
   "source": [
    "spark"
   ]
  },
  {
   "cell_type": "code",
   "execution_count": 5,
   "metadata": {},
   "outputs": [],
   "source": [
    "files = glob.glob(RAW + '/*.json')"
   ]
  },
  {
   "cell_type": "code",
   "execution_count": 6,
   "metadata": {},
   "outputs": [
    {
     "data": {
      "text/plain": [
       "['./raw/aluno.json',\n",
       " './raw/curso.json',\n",
       " './raw/logIzz.json',\n",
       " './raw/log_aula.json',\n",
       " './raw/matricula.json',\n",
       " './raw/pedido.json',\n",
       " './raw/transacao_pagseguro.json',\n",
       " './raw/user.json']"
      ]
     },
     "execution_count": 6,
     "metadata": {},
     "output_type": "execute_result"
    }
   ],
   "source": [
    "files"
   ]
  },
  {
   "cell_type": "code",
   "execution_count": 11,
   "metadata": {},
   "outputs": [],
   "source": [
    "schemas = {}\n",
    "schemas['aluno'] = StructType([\n",
    "    StructField(\"cep\", StringType(), True),\n",
    "    StructField(\"cidade\", StringType(), True),\n",
    "    StructField(\"data_nascimento\", DateType(), True),\n",
    "    StructField(\"data_registro\", DateType(), True),\n",
    "    StructField(\"domain\", StringType(), True),\n",
    "    StructField(\"estado\", StringType(), True),\n",
    "    StructField(\"id\", DoubleType(), True),\n",
    "    StructField(\"logradouro\", StringType(), True),\n",
    "    StructField(\"user_id\", DoubleType(), True),\n",
    "])\n",
    "schemas['curso'] = StructType([\n",
    "    StructField(\"created\", DateType(), True),\n",
    "    StructField(\"domain\", StringType(), True),\n",
    "    StructField(\"nome\", StringType(), True),\n",
    "    StructField(\"valor\", DoubleType(), True),\n",
    "    StructField(\"id\", DoubleType(), True),\n",
    "    StructField(\"duracao\", DoubleType(), True),\n",
    "    StructField(\"tipo\", StringType(), True),\n",
    "])\n",
    "schemas['logIzz'] = StructType([\n",
    "    StructField(\"created\", TimestampType(), True),\n",
    "    StructField(\"action\", StringType(), True),\n",
    "    StructField(\"domain\", StringType(), True),\n",
    "    StructField(\"model_id\", IntegerType(), True),\n",
    "    StructField(\"id\", IntegerType(), True),\n",
    "    StructField(\"user_id\", IntegerType(), True),\n",
    "    StructField(\"model\", StringType(), True),\n",
    "])\n",
    "schemas['log_aula'] = StructType([\n",
    "    StructField(\"aluno_id\", DoubleType(), True),\n",
    "    StructField(\"aulas_parte_id\", DoubleType(), True),\n",
    "    StructField(\"data_cadastro\", StringType(), True),\n",
    "    StructField(\"domain\", StringType(), True),\n",
    "    StructField(\"id\", DoubleType(), True),\n",
    "    StructField(\"matricula_id\", DoubleType(), True),\n",
    "    StructField(\"qtd_acesso\", DoubleType(), True),\n",
    "])\n",
    "schemas['matricula'] = StructType([\n",
    "    StructField(\"aluno_id\", DoubleType(), True),\n",
    "    StructField(\"cupom\", StringType(), True),\n",
    "    StructField(\"curso_id\", DoubleType(), True),\n",
    "    StructField(\"curso_valor\", DoubleType(), True),\n",
    "    StructField(\"data_cancelamento\", DateType(), True),\n",
    "    StructField(\"data_expiracao\", DateType(), True),\n",
    "    StructField(\"data_liberacao\", DateType(), True),\n",
    "    StructField(\"data_matricula\", DateType(), True),\n",
    "    StructField(\"domain\", StringType(), True),\n",
    "    StructField(\"id\", DoubleType(), True),\n",
    "    StructField(\"pedido_id\", DoubleType(), True),\n",
    "    StructField(\"status\", StringType(), True),\n",
    "])\n",
    "schemas['pedido'] = StructType([\n",
    "    StructField(\"aluno_id\", DoubleType(), True),\n",
    "    StructField(\"data\", TimestampType(), True),\n",
    "    StructField(\"data_cancelamento\", DateType(), True),\n",
    "    StructField(\"data_liberacao\", DateType(), True),\n",
    "    StructField(\"domain\", StringType(), True),\n",
    "    StructField(\"id\", DoubleType(), True),\n",
    "    StructField(\"status\", StringType(), True),\n",
    "])\n",
    "schemas['transacao_pagseguro'] = StructType([\n",
    "    StructField(\"data_transacao\", DateType(), True),\n",
    "    StructField(\"domain\", StringType(), True),\n",
    "    StructField(\"parcelas\", DoubleType(), True),\n",
    "    StructField(\"pedido_id\", DoubleType(), True),\n",
    "    StructField(\"tipo_pagamento\", StringType(), True),\n",
    "    StructField(\"id\", DoubleType(), True),\n",
    "    StructField(\"transacaoid\", StringType(), True),\n",
    "    StructField(\"status\", StringType(), True),\n",
    "])\n",
    "schemas['user'] = StructType([\n",
    "    StructField(\"acesso\", DateType(), True),\n",
    "    StructField(\"domain\", StringType(), True),\n",
    "    StructField(\"id\", IntegerType(), True),\n",
    "    StructField(\"perfil_id\", IntegerType(), True),\n",
    "    StructField(\"ultimo_ip\", StringType(), True),\n",
    "])"
   ]
  },
  {
   "cell_type": "code",
   "execution_count": 14,
   "metadata": {},
   "outputs": [],
   "source": [
    "for file in files:\n",
    "    model = re.sub('.*/', '', re.sub(RAW, '',file)).replace('.json', '') \n",
    "    df = spark.read.schema(schemas[model]).json(file)\n",
    "    df.write.mode('overwrite').parquet(MODELED+model+\".parquet\")"
   ]
  }
 ],
 "metadata": {
  "kernelspec": {
   "display_name": "Python 3",
   "language": "python",
   "name": "python3"
  },
  "language_info": {
   "codemirror_mode": {
    "name": "ipython",
    "version": 3
   },
   "file_extension": ".py",
   "mimetype": "text/x-python",
   "name": "python",
   "nbconvert_exporter": "python",
   "pygments_lexer": "ipython3",
   "version": "3.7.3"
  }
 },
 "nbformat": 4,
 "nbformat_minor": 2
}

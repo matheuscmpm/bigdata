{
 "cells": [
  {
   "cell_type": "code",
   "execution_count": 1,
   "metadata": {},
   "outputs": [],
   "source": [
    "import os\n",
    "import requests\n",
    "import json\n",
    "import re\n",
    "import numpy as np\n",
    "from pyspark import SparkContext, SparkConf\n",
    "from pyspark.sql import SparkSession, SQLContext\n",
    "import datetime\n",
    "import pandas as pd"
   ]
  },
  {
   "cell_type": "code",
   "execution_count": 2,
   "metadata": {},
   "outputs": [],
   "source": [
    "LANDED = './landed/'\n",
    "RAW = './raw/'\n",
    "MODELED = './modeled/'"
   ]
  },
  {
   "cell_type": "code",
   "execution_count": 3,
   "metadata": {},
   "outputs": [],
   "source": [
    "def search_json(x):\n",
    "    directory = LANDED+x\n",
    "    if os.path.isdir(directory):\n",
    "        files = []\n",
    "        for y in os.listdir(directory):\n",
    "            filename = directory + '/' + y\n",
    "            if os.path.isfile(filename) & filename.find('.json') > -1:\n",
    "                files.append(filename)\n",
    "        return files"
   ]
  },
  {
   "cell_type": "code",
   "execution_count": 4,
   "metadata": {},
   "outputs": [],
   "source": [
    "builder = SparkSession.builder.appName(\"Parser\")\n",
    "builder.config(\n",
    "    \"spark.hadoop.mapreduce.fileoutputcommitter.algorithm.version\", \"2\")\n",
    "builder.config(\"spark.speculation\", \"false\")\n",
    "builder.config(\"spark.sql.parquet.compression.codec\", \"gzip\")\n",
    "builder.config(\"spark.debug.maxToStringFields\", \"100\")\n",
    "builder.config(\"spark.driver.memory\", \"9g\")\n",
    "builder.config(\"spark.driver.cores\", \"4\")\n",
    "builder.config(\"spark.executor-memory\", \"20g\")\n",
    "builder.config(\"spark.executor.cores\", \"4\")\n",
    "builder.master(\"local[*]\")\n",
    "\n",
    "spark = builder.getOrCreate()"
   ]
  },
  {
   "cell_type": "code",
   "execution_count": 5,
   "metadata": {},
   "outputs": [],
   "source": [
    "list_of_paths = spark.sparkContext.parallelize(os.listdir(LANDED)).flatMap(search_json).collect()"
   ]
  },
  {
   "cell_type": "code",
   "execution_count": 14,
   "metadata": {},
   "outputs": [],
   "source": [
    "def analyse_json(paths):\n",
    "    nDf = pd.DataFrame([])\n",
    "    for path in paths:\n",
    "        domain = re.sub('/.*', '', re.sub(LANDED, '',path))\n",
    "        model = re.sub('.*/', '', re.sub(LANDED, '',path)) \n",
    "        parquetFn = model.replace('.json', '.parquet')\n",
    "        if (os.stat(path).st_size > 0 and is_json(path) == True):\n",
    "            full_report = pd.read_json(path)\n",
    "            full_report['domain'] = domain\n",
    "            nDf = pd.concat([nDf, full_report], sort=False)\n",
    "    with open(RAW+model, 'w') as f:\n",
    "        f.write(nDf.to_json(orient='records'))\n",
    "        #nDf.info()\n",
    "        #nDf.to_parquet(MODELED+parquetFn)"
   ]
  },
  {
   "cell_type": "code",
   "execution_count": 7,
   "metadata": {},
   "outputs": [],
   "source": [
    "def is_json(myjson):\n",
    "  try:\n",
    "    json_object = json.loads(open(myjson).read())\n",
    "  except ValueError as e:\n",
    "    return False\n",
    "  return True"
   ]
  },
  {
   "cell_type": "code",
   "execution_count": 8,
   "metadata": {},
   "outputs": [],
   "source": [
    "def extract_models(path):\n",
    "    return re.sub('.*/', '', re.sub(LANDED, '',path))"
   ]
  },
  {
   "cell_type": "code",
   "execution_count": 9,
   "metadata": {},
   "outputs": [],
   "source": [
    "list_of_models = spark.sparkContext.parallelize(list_of_paths).map(extract_models).distinct().collect()"
   ]
  },
  {
   "cell_type": "code",
   "execution_count": 10,
   "metadata": {},
   "outputs": [],
   "source": [
    "dictionary = {}\n",
    "for model in list_of_models:\n",
    "    dictionary[model] = [item for item in list_of_paths if item.endswith(model)]"
   ]
  },
  {
   "cell_type": "code",
   "execution_count": 13,
   "metadata": {},
   "outputs": [
    {
     "data": {
      "text/plain": [
       "[None, None, None, None, None, None, None, None]"
      ]
     },
     "execution_count": 13,
     "metadata": {},
     "output_type": "execute_result"
    }
   ],
   "source": [
    "spark.sparkContext.parallelize(dictionary).map(lambda x: analyse_json(dictionary[x])).collect()"
   ]
  },
  {
   "cell_type": "code",
   "execution_count": null,
   "metadata": {},
   "outputs": [],
   "source": [
    "#pd.read_json(RAW+'matricula.json').groupby('domain')['domain'].count()"
   ]
  },
  {
   "cell_type": "code",
   "execution_count": null,
   "metadata": {},
   "outputs": [],
   "source": []
  }
 ],
 "metadata": {
  "kernelspec": {
   "display_name": "Python 3",
   "language": "python",
   "name": "python3"
  },
  "language_info": {
   "codemirror_mode": {
    "name": "ipython",
    "version": 3
   },
   "file_extension": ".py",
   "mimetype": "text/x-python",
   "name": "python",
   "nbconvert_exporter": "python",
   "pygments_lexer": "ipython3",
   "version": "3.7.3"
  }
 },
 "nbformat": 4,
 "nbformat_minor": 2
}

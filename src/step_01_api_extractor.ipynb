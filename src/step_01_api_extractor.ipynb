{
 "cells": [
  {
   "cell_type": "code",
   "execution_count": 1,
   "metadata": {},
   "outputs": [],
   "source": [
    "import os\n",
    "import requests\n",
    "import json\n",
    "import re\n",
    "from pyspark import SparkContext, SparkConf\n",
    "from pyspark.sql import SparkSession\n",
    "import datetime\n",
    "from pyspark.sql.functions import regexp_replace"
   ]
  },
  {
   "cell_type": "code",
   "execution_count": 2,
   "metadata": {},
   "outputs": [],
   "source": [
    "LANDED = './landed/'"
   ]
  },
  {
   "cell_type": "code",
   "execution_count": 3,
   "metadata": {},
   "outputs": [
    {
     "data": {
      "text/html": [
       "\n",
       "            <div>\n",
       "                <p><b>SparkSession - in-memory</b></p>\n",
       "                \n",
       "        <div>\n",
       "            <p><b>SparkContext</b></p>\n",
       "\n",
       "            <p><a href=\"http://0f34c3f1dd57:4040\">Spark UI</a></p>\n",
       "\n",
       "            <dl>\n",
       "              <dt>Version</dt>\n",
       "                <dd><code>v2.4.3</code></dd>\n",
       "              <dt>Master</dt>\n",
       "                <dd><code>local[*]</code></dd>\n",
       "              <dt>AppName</dt>\n",
       "                <dd><code>Extractor API</code></dd>\n",
       "            </dl>\n",
       "        </div>\n",
       "        \n",
       "            </div>\n",
       "        "
      ],
      "text/plain": [
       "<pyspark.sql.session.SparkSession at 0x7f2c81bcf2b0>"
      ]
     },
     "execution_count": 3,
     "metadata": {},
     "output_type": "execute_result"
    }
   ],
   "source": [
    "builder = SparkSession.builder.appName(\"Extractor API\")\n",
    "builder.config(\n",
    "    \"spark.hadoop.mapreduce.fileoutputcommitter.algorithm.version\", \"2\")\n",
    "builder.config(\"spark.speculation\", \"false\")\n",
    "builder.config(\"spark.sql.parquet.compression.codec\", \"gzip\")\n",
    "builder.config(\"spark.debug.maxToStringFields\", \"100\")\n",
    "builder.config(\"spark.driver.memory\", \"2g\")\n",
    "builder.config(\"spark.driver.cores\", \"1\")\n",
    "builder.config(\"spark.executor-memory\", \"6g\")\n",
    "builder.config(\"spark.executor.cores\", \"5\")\n",
    "builder.master(\"local[*]\")\n",
    "\n",
    "spark = builder.getOrCreate()\n",
    "spark"
   ]
  },
  {
   "cell_type": "code",
   "execution_count": 4,
   "metadata": {},
   "outputs": [],
   "source": [
    "request_token = '<TOKEN>'\n",
    "request_base_url = '<REQUEST_BASE_END_POINT>'\n",
    "endpoint_getProjects = 'getProjectWithNewApi'\n",
    "endpoint_getReports = 'getReports'"
   ]
  },
  {
   "cell_type": "code",
   "execution_count": 5,
   "metadata": {},
   "outputs": [],
   "source": [
    "data = {'token': request_token }\n",
    "response = requests.post(request_base_url+endpoint_getProjects, data) "
   ]
  },
  {
   "cell_type": "code",
   "execution_count": 6,
   "metadata": {},
   "outputs": [],
   "source": [
    "listOfProjects = json.loads(response.text)"
   ]
  },
  {
   "cell_type": "code",
   "execution_count": 7,
   "metadata": {},
   "outputs": [],
   "source": [
    "def is_json(myjson):\n",
    "  try:\n",
    "    json_object = json.loads(myjson)\n",
    "  except ValueError as e:\n",
    "    return False\n",
    "  return True"
   ]
  },
  {
   "cell_type": "code",
   "execution_count": 8,
   "metadata": {},
   "outputs": [],
   "source": [
    "def get_files_to_download(url):\n",
    "    data = {'token': '<TOKEN_2>'}\n",
    "    url = url.replace('https://','').replace('www.','')\n",
    "    \n",
    "    url = 'http://'+url\n",
    "    retorno_ws = requests.post(url, data)\n",
    "    files_to_download = []\n",
    "    if is_json(retorno_ws.text):\n",
    "        \n",
    "        retorno = json.loads(retorno_ws.text)\n",
    "    \n",
    "        base_url = re.sub('/api/.*', '', url)\n",
    "        if 'type' in retorno:\n",
    "            if retorno['type'] == 'download':\n",
    "                if 'files' in retorno:\n",
    "                    files_to_download = [base_url+file for file in retorno['files']]\n",
    "    return files_to_download\n"
   ]
  },
  {
   "cell_type": "code",
   "execution_count": 9,
   "metadata": {},
   "outputs": [],
   "source": [
    "def building_endpoint(url):\n",
    "    models = ['aluno', 'user', 'pedido', 'matricula', 'curso', 'transacao_pagseguro', 'log_aula', 'logIzz']\n",
    "    urls = [url + '/api/extract/' + x for x in models]\n",
    "    return urls"
   ]
  },
  {
   "cell_type": "code",
   "execution_count": 10,
   "metadata": {},
   "outputs": [],
   "source": [
    "def download_files(url):\n",
    "    domain = url.replace('https://','').replace('www.','').replace('http://', '')\n",
    "    domain = re.sub('/files/.*', '', domain)\n",
    "    filename = re.sub('.*/etx/', '', url)\n",
    "    \n",
    "    folder_path = LANDED + domain\n",
    "    if not os.path.exists(folder_path):\n",
    "        os.mkdir(folder_path)\n",
    "        \n",
    "    download = requests.get(url)\n",
    "    with open(folder_path+'/'+filename,'wb') as f: \n",
    "        f.write(download.content)\n",
    "    "
   ]
  },
  {
   "cell_type": "code",
   "execution_count": 11,
   "metadata": {},
   "outputs": [],
   "source": [
    "endpoints = spark.sparkContext.parallelize(listOfProjects).flatMap(building_endpoint)"
   ]
  },
  {
   "cell_type": "code",
   "execution_count": 12,
   "metadata": {},
   "outputs": [],
   "source": [
    "endpoints_array = endpoints.collect()"
   ]
  },
  {
   "cell_type": "code",
   "execution_count": 13,
   "metadata": {},
   "outputs": [],
   "source": [
    "files_to_download = spark.sparkContext.parallelize(endpoints_array).flatMap(get_files_to_download).collect()"
   ]
  },
  {
   "cell_type": "code",
   "execution_count": 14,
   "metadata": {},
   "outputs": [],
   "source": [
    "download_now = spark.sparkContext.parallelize(files_to_download).foreach(download_files)"
   ]
  }
 ],
 "metadata": {
  "kernelspec": {
   "display_name": "Python 3",
   "language": "python",
   "name": "python3"
  },
  "language_info": {
   "codemirror_mode": {
    "name": "ipython",
    "version": 3
   },
   "file_extension": ".py",
   "mimetype": "text/x-python",
   "name": "python",
   "nbconvert_exporter": "python",
   "pygments_lexer": "ipython3",
   "version": "3.7.3"
  }
 },
 "nbformat": 4,
 "nbformat_minor": 2
}

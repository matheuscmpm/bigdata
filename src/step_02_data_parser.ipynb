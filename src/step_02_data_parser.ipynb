{
 "cells": [
  {
   "cell_type": "code",
   "execution_count": 1,
   "metadata": {},
   "outputs": [],
   "source": [
    "import os\n",
    "import json\n",
    "import re\n",
    "import numpy as np\n",
    "from pyspark import SparkContext, SparkConf\n",
    "from pyspark.sql import SparkSession, SQLContext\n",
    "import pandas as pd"
   ]
  },
  {
   "cell_type": "code",
   "execution_count": 2,
   "metadata": {},
   "outputs": [],
   "source": [
    "LANDED = './landed/'\n",
    "RAW = './raw/'\n",
    "MODELED = './modeled/'"
   ]
  },
  {
   "cell_type": "code",
   "execution_count": 3,
   "metadata": {},
   "outputs": [],
   "source": [
    "def search_json(x):\n",
    "    directory = LANDED+x\n",
    "    if os.path.isdir(directory):\n",
    "        files = []\n",
    "        for y in os.listdir(directory):\n",
    "            filename = directory + '/' + y\n",
    "            if os.path.isfile(filename) & filename.find('.json') > -1:\n",
    "                files.append(filename)\n",
    "        return files"
   ]
  },
  {
   "cell_type": "code",
   "execution_count": 4,
   "metadata": {},
   "outputs": [],
   "source": [
    "builder = SparkSession.builder.appName(\"Parser\")\n",
    "builder.config(\n",
    "    \"spark.hadoop.mapreduce.fileoutputcommitter.algorithm.version\", \"2\")\n",
    "builder.config(\"spark.speculation\", \"false\")\n",
    "builder.config(\"spark.sql.parquet.compression.codec\", \"gzip\")\n",
    "builder.config(\"spark.debug.maxToStringFields\", \"100\")\n",
    "builder.config(\"spark.driver.memory\", \"2g\")\n",
    "builder.config(\"spark.driver.cores\", \"1\")\n",
    "builder.config(\"spark.executor-memory\", \"6g\")\n",
    "builder.config(\"spark.executor.cores\", \"5\")\n",
    "builder.master(\"local[*]\")\n",
    "\n",
    "spark = builder.getOrCreate()"
   ]
  },
  {
   "cell_type": "code",
   "execution_count": 5,
   "metadata": {},
   "outputs": [
    {
     "data": {
      "text/plain": [
       "['./landed/192.168.99.100/aluno-0.json.gz',\n",
       " './landed/192.168.99.100/aluno-1.json.gz',\n",
       " './landed/192.168.99.100/aluno-2.json.gz',\n",
       " './landed/192.168.99.100/curso-0.json.gz',\n",
       " './landed/192.168.99.100/logizz-0.json.gz',\n",
       " './landed/192.168.99.100/logizz-1.json.gz',\n",
       " './landed/192.168.99.100/logizz-10.json.gz',\n",
       " './landed/192.168.99.100/logizz-11.json.gz',\n",
       " './landed/192.168.99.100/logizz-12.json.gz',\n",
       " './landed/192.168.99.100/logizz-13.json.gz',\n",
       " './landed/192.168.99.100/logizz-14.json.gz',\n",
       " './landed/192.168.99.100/logizz-15.json.gz',\n",
       " './landed/192.168.99.100/logizz-16.json.gz',\n",
       " './landed/192.168.99.100/logizz-17.json.gz',\n",
       " './landed/192.168.99.100/logizz-18.json.gz',\n",
       " './landed/192.168.99.100/logizz-19.json.gz',\n",
       " './landed/192.168.99.100/logizz-2.json.gz',\n",
       " './landed/192.168.99.100/logizz-20.json.gz',\n",
       " './landed/192.168.99.100/logizz-21.json.gz',\n",
       " './landed/192.168.99.100/logizz-22.json.gz',\n",
       " './landed/192.168.99.100/logizz-23.json.gz',\n",
       " './landed/192.168.99.100/logizz-24.json.gz',\n",
       " './landed/192.168.99.100/logizz-25.json.gz',\n",
       " './landed/192.168.99.100/logizz-26.json.gz',\n",
       " './landed/192.168.99.100/logizz-27.json.gz',\n",
       " './landed/192.168.99.100/logizz-28.json.gz',\n",
       " './landed/192.168.99.100/logizz-29.json.gz',\n",
       " './landed/192.168.99.100/logizz-3.json.gz',\n",
       " './landed/192.168.99.100/logizz-30.json.gz',\n",
       " './landed/192.168.99.100/logizz-31.json.gz',\n",
       " './landed/192.168.99.100/logizz-32.json.gz',\n",
       " './landed/192.168.99.100/logizz-33.json.gz',\n",
       " './landed/192.168.99.100/logizz-34.json.gz',\n",
       " './landed/192.168.99.100/logizz-35.json.gz',\n",
       " './landed/192.168.99.100/logizz-36.json.gz',\n",
       " './landed/192.168.99.100/logizz-37.json.gz',\n",
       " './landed/192.168.99.100/logizz-38.json.gz',\n",
       " './landed/192.168.99.100/logizz-39.json.gz',\n",
       " './landed/192.168.99.100/logizz-4.json.gz',\n",
       " './landed/192.168.99.100/logizz-40.json.gz',\n",
       " './landed/192.168.99.100/logizz-41.json.gz',\n",
       " './landed/192.168.99.100/logizz-42.json.gz',\n",
       " './landed/192.168.99.100/logizz-43.json.gz',\n",
       " './landed/192.168.99.100/logizz-44.json.gz',\n",
       " './landed/192.168.99.100/logizz-5.json.gz',\n",
       " './landed/192.168.99.100/logizz-6.json.gz',\n",
       " './landed/192.168.99.100/logizz-7.json.gz',\n",
       " './landed/192.168.99.100/logizz-8.json.gz',\n",
       " './landed/192.168.99.100/logizz-9.json.gz',\n",
       " './landed/192.168.99.100/log_aula-0.json.gz',\n",
       " './landed/192.168.99.100/matricula-0.json.gz',\n",
       " './landed/192.168.99.100/matricula-1.json.gz',\n",
       " './landed/192.168.99.100/matricula-2.json.gz',\n",
       " './landed/192.168.99.100/matricula-3.json.gz',\n",
       " './landed/192.168.99.100/matricula-4.json.gz',\n",
       " './landed/192.168.99.100/pedido-0.json.gz',\n",
       " './landed/192.168.99.100/pedido-1.json.gz',\n",
       " './landed/192.168.99.100/pedido-2.json.gz',\n",
       " './landed/192.168.99.100/pedido-3.json.gz',\n",
       " './landed/192.168.99.100/pedido-4.json.gz',\n",
       " './landed/192.168.99.100/transacao_pagseguro-0.json.gz',\n",
       " './landed/192.168.99.100/transacao_pagseguro-1.json.gz',\n",
       " './landed/192.168.99.100/user-0.json.gz',\n",
       " './landed/192.168.99.100/user-1.json.gz',\n",
       " './landed/192.168.99.100/user-2.json.gz']"
      ]
     },
     "execution_count": 5,
     "metadata": {},
     "output_type": "execute_result"
    }
   ],
   "source": [
    "list_of_paths = spark.sparkContext.parallelize(os.listdir(LANDED)).flatMap(search_json).collect()\n",
    "list_of_paths"
   ]
  },
  {
   "cell_type": "code",
   "execution_count": 6,
   "metadata": {},
   "outputs": [],
   "source": [
    "def analyse_json(paths):\n",
    "    nDf = pd.DataFrame([])\n",
    "    for path in paths:\n",
    "        domain = re.sub('/.*', '', re.sub(LANDED, '',path))\n",
    "        model = re.sub('-.*', '', re.sub('.*/', '', re.sub(LANDED, '',path))) \n",
    "        if (os.stat(path).st_size > 0):\n",
    "            full_report = pd.read_json(path)\n",
    "            full_report['domain'] = domain\n",
    "            nDf = pd.concat([nDf, full_report], sort=False)\n",
    "    with open(RAW+model+'.json', 'w') as f:\n",
    "        f.write(nDf.to_json(orient='records'))"
   ]
  },
  {
   "cell_type": "code",
   "execution_count": 7,
   "metadata": {},
   "outputs": [],
   "source": [
    "def is_json(myjson):\n",
    "  try:\n",
    "    json_object = json.loads(open(myjson).read())\n",
    "  except ValueError as e:\n",
    "    return False\n",
    "  return True"
   ]
  },
  {
   "cell_type": "code",
   "execution_count": 8,
   "metadata": {},
   "outputs": [],
   "source": [
    "def extract_models(path):\n",
    "    return re.sub('-.*', '', re.sub('.*/', '', re.sub(LANDED, '',path)))"
   ]
  },
  {
   "cell_type": "code",
   "execution_count": 9,
   "metadata": {},
   "outputs": [],
   "source": [
    "list_of_models = spark.sparkContext.parallelize(list_of_paths).map(extract_models).distinct().collect()"
   ]
  },
  {
   "cell_type": "code",
   "execution_count": 10,
   "metadata": {},
   "outputs": [],
   "source": [
    "dictionary = {}\n",
    "for model in list_of_models:\n",
    "    dictionary[model] = [item for item in list_of_paths if model in re.sub('./.*/', '', item)]"
   ]
  },
  {
   "cell_type": "code",
   "execution_count": 11,
   "metadata": {},
   "outputs": [
    {
     "data": {
      "text/plain": [
       "[None, None, None, None, None, None, None, None]"
      ]
     },
     "execution_count": 11,
     "metadata": {},
     "output_type": "execute_result"
    }
   ],
   "source": [
    "spark.sparkContext.parallelize(dictionary).map(lambda x: analyse_json(dictionary[x])).collect()"
   ]
  }
 ],
 "metadata": {
  "kernelspec": {
   "display_name": "Python 3",
   "language": "python",
   "name": "python3"
  },
  "language_info": {
   "codemirror_mode": {
    "name": "ipython",
    "version": 3
   },
   "file_extension": ".py",
   "mimetype": "text/x-python",
   "name": "python",
   "nbconvert_exporter": "python",
   "pygments_lexer": "ipython3",
   "version": "3.7.3"
  }
 },
 "nbformat": 4,
 "nbformat_minor": 2
}

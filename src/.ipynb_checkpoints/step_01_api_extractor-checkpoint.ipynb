{
 "cells": [
  {
   "cell_type": "code",
   "execution_count": 1,
   "metadata": {},
   "outputs": [],
   "source": [
    "import os\n",
    "import requests\n",
    "import json\n",
    "import re\n",
    "from pyspark import SparkContext, SparkConf\n",
    "from pyspark.sql import SparkSession\n",
    "import datetime\n",
    "from pyspark.sql.functions import regexp_replace"
   ]
  },
  {
   "cell_type": "code",
   "execution_count": 2,
   "metadata": {},
   "outputs": [],
   "source": [
    "LANDED = './landed/'"
   ]
  },
  {
   "cell_type": "code",
   "execution_count": 3,
   "metadata": {},
   "outputs": [
    {
     "data": {
      "text/html": [
       "\n",
       "            <div>\n",
       "                <p><b>SparkSession - in-memory</b></p>\n",
       "                \n",
       "        <div>\n",
       "            <p><b>SparkContext</b></p>\n",
       "\n",
       "            <p><a href=\"http://0f34c3f1dd57:4041\">Spark UI</a></p>\n",
       "\n",
       "            <dl>\n",
       "              <dt>Version</dt>\n",
       "                <dd><code>v2.4.3</code></dd>\n",
       "              <dt>Master</dt>\n",
       "                <dd><code>local[*]</code></dd>\n",
       "              <dt>AppName</dt>\n",
       "                <dd><code>Extractor API</code></dd>\n",
       "            </dl>\n",
       "        </div>\n",
       "        \n",
       "            </div>\n",
       "        "
      ],
      "text/plain": [
       "<pyspark.sql.session.SparkSession at 0x7fc798292390>"
      ]
     },
     "execution_count": 3,
     "metadata": {},
     "output_type": "execute_result"
    }
   ],
   "source": [
    "builder = SparkSession.builder.appName(\"Extractor API\")\n",
    "builder.config(\n",
    "    \"spark.hadoop.mapreduce.fileoutputcommitter.algorithm.version\", \"2\")\n",
    "builder.config(\"spark.speculation\", \"false\")\n",
    "builder.config(\"spark.sql.parquet.compression.codec\", \"gzip\")\n",
    "builder.config(\"spark.debug.maxToStringFields\", \"100\")\n",
    "builder.config(\"spark.driver.memory\", \"9g\")\n",
    "builder.config(\"spark.driver.cores\", \"4\")\n",
    "builder.config(\"spark.executor-memory\", \"20g\")\n",
    "builder.config(\"spark.executor.cores\", \"4\")\n",
    "builder.master(\"local[*]\")\n",
    "\n",
    "spark = builder.getOrCreate()\n",
    "spark"
   ]
  },
  {
   "cell_type": "code",
   "execution_count": 4,
   "metadata": {},
   "outputs": [],
   "source": [
    "request_token = 'be9d17588633e69187bcaf941bca719a'\n",
    "request_base_url = 'http://taskzz.thinkr.com.br/api/'\n",
    "endpoint_getProjects = 'getProjectWithNewApi'\n",
    "endpoint_getReports = 'getReports'"
   ]
  },
  {
   "cell_type": "code",
   "execution_count": 5,
   "metadata": {},
   "outputs": [],
   "source": [
    "data = {'token': request_token }\n",
    "response = requests.post(request_base_url+endpoint_getProjects, data) "
   ]
  },
  {
   "cell_type": "code",
   "execution_count": 6,
   "metadata": {},
   "outputs": [],
   "source": [
    "listOfProjects = json.loads(response.text)"
   ]
  },
  {
   "cell_type": "code",
   "execution_count": 7,
   "metadata": {},
   "outputs": [],
   "source": [
    "listOfProjects = ['192.168.99.101']"
   ]
  },
  {
   "cell_type": "code",
   "execution_count": 25,
   "metadata": {},
   "outputs": [],
   "source": [
    "def get_files_to_download(url):\n",
    "    data = {'token': 'be9d17588633e69187bcaf941bca719a'}\n",
    "    url = url.replace('https://','').replace('www.','')\n",
    "    #domain = re.sub('/api/.*', '', url)\n",
    "    #collection = re.sub('.*/extract/', '', url)\n",
    "    \n",
    "    \n",
    "    url = 'http://'+url\n",
    "    retorno_ws = requests.post(url, data)\n",
    "    retorno = json.loads(retorno_ws.text)\n",
    "    \n",
    "    base_url = re.sub('/api/.*', '', url)\n",
    "    \n",
    "    files_to_download = []\n",
    "    if retorno['type'] == 'download':\n",
    "        if retorno['files']:\n",
    "            files_to_download = [base_url+file for file in retorno['files']]\n",
    "                #filename = re.sub('.*/etx/', '', file)\n",
    "    return files_to_download\n",
    "    #with open(folder_path+'/'+collection+'.json', 'w') as f: \n",
    "        #f.write(report.text)"
   ]
  },
  {
   "cell_type": "code",
   "execution_count": 9,
   "metadata": {},
   "outputs": [],
   "source": [
    "def building_endpoint(url):\n",
    "    models = ['aluno', 'user', 'pedido', 'matricula', 'curso', 'transacao_pagseguro', 'log_aula', 'logIzz']\n",
    "    models = ['aluno']\n",
    "    urls = [url + '/api/extract/' + x for x in models]\n",
    "    return urls"
   ]
  },
  {
   "cell_type": "code",
   "execution_count": 31,
   "metadata": {},
   "outputs": [],
   "source": [
    "def download_files(url):\n",
    "    domain = url.replace('https://','').replace('www.','').replace('http:\\/\\/', '')\n",
    "    domain = re.sub('/files/.*', '', url)\n",
    "    filename = re.sub('.*/etx/', '', url)\n",
    "    \n",
    "    #folder_path = LANDED + domain\n",
    "    #if not os.path.exists(folder_path):\n",
    "    #    os.mkdir(folder_path)\n",
    "        \n",
    "    print(domain)\n",
    "    print(filename)\n",
    "    "
   ]
  },
  {
   "cell_type": "code",
   "execution_count": 10,
   "metadata": {},
   "outputs": [],
   "source": [
    "endpoints = spark.sparkContext.parallelize(listOfProjects).flatMap(building_endpoint)"
   ]
  },
  {
   "cell_type": "code",
   "execution_count": 11,
   "metadata": {},
   "outputs": [],
   "source": [
    "endpoints_array = endpoints.collect()"
   ]
  },
  {
   "cell_type": "code",
   "execution_count": 12,
   "metadata": {},
   "outputs": [],
   "source": [
    "files_to_download = spark.sparkContext.parallelize(endpoints_array).flatMap(get_files_to_download).collect()"
   ]
  },
  {
   "cell_type": "code",
   "execution_count": 13,
   "metadata": {},
   "outputs": [
    {
     "data": {
      "text/plain": [
       "['http://192.168.99.101/files/etx/aluno-0.json.gz',\n",
       " 'http://192.168.99.101/files/etx/aluno-1.json.gz',\n",
       " 'http://192.168.99.101/files/etx/aluno-2.json.gz']"
      ]
     },
     "execution_count": 13,
     "metadata": {},
     "output_type": "execute_result"
    }
   ],
   "source": [
    "files_to_download"
   ]
  },
  {
   "cell_type": "code",
   "execution_count": 32,
   "metadata": {},
   "outputs": [
    {
     "name": "stdout",
     "output_type": "stream",
     "text": [
      "http://192.168.99.101\n",
      "aluno-0.json.gz\n"
     ]
    }
   ],
   "source": [
    "download_files('http://192.168.99.101/files/etx/aluno-0.json.gz')"
   ]
  },
  {
   "cell_type": "code",
   "execution_count": null,
   "metadata": {},
   "outputs": [],
   "source": []
  }
 ],
 "metadata": {
  "kernelspec": {
   "display_name": "Python 3",
   "language": "python",
   "name": "python3"
  },
  "language_info": {
   "codemirror_mode": {
    "name": "ipython",
    "version": 3
   },
   "file_extension": ".py",
   "mimetype": "text/x-python",
   "name": "python",
   "nbconvert_exporter": "python",
   "pygments_lexer": "ipython3",
   "version": "3.7.3"
  }
 },
 "nbformat": 4,
 "nbformat_minor": 2
}
